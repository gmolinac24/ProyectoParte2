{
  "nbformat": 4,
  "nbformat_minor": 0,
  "metadata": {
    "colab": {
      "provenance": []
    },
    "kernelspec": {
      "name": "python3",
      "display_name": "Python 3"
    },
    "language_info": {
      "name": "python"
    }
  },
  "cells": [
    {
      "cell_type": "markdown",
      "source": [
        "# **Redes Neuronales**\n",
        "\n",
        "Las redes neuronales son modelos computacionales inspirados en el funcionamiento del cerebro humano, diseñados para aprender a partir de datos y realizar tareas complejas como la clasificación, la regresión y el reconocimiento de patrones.\n",
        "\n",
        "Una red neuronal, también conocida como red neuronal artificial (ANN), consiste en un conjunto de nodos interconectados, llamados neuronas, organizados en capas. Estas capas incluyen:\n",
        "\n",
        "\n",
        "\n",
        "*   **Capa de entrada:**  Recibe los datos iniciales.\n",
        "*   **Capas ocultas:** Procesan la información mediante conexiones entre nodos.\n",
        "*   **Capa de salida:** Produce el resultado final de la red. Cada neurona realiza cálculos sobre las entradas que recibe y transmite los resultados a otras neuronas. Este proceso permite que la red aprenda y se adapte a diferentes tipos de entradas, mejorando su precisión con el tiempo\n",
        "\n"
      ],
      "metadata": {
        "id": "uJVKETCTYV1e"
      }
    },
    {
      "cell_type": "markdown",
      "source": [
        "## Liberías para redes neuronales\n",
        "# TensorFlow\n",
        " es una de las bibliotecas más populares para el desarrollo de modelos de aprendizaje automático y redes neuronales.\n",
        "\n",
        "Se utiliza para construir, entrenar y desplegar modelos de aprendizaje profundo. Incluye herramientas para crear redes neuronales convolucionales (CNN), redes neuronales recurrentes (RNN), y más.\n",
        "\n",
        "# Keras\n",
        "Keras es una API de alto nivel para construir y entrenar modelos de aprendizaje profundo que se ejecuta sobre TensorFlow. Es conocida por su simplicidad y facilidad de uso.\n",
        "\n",
        "Permite a los desarrolladores crear rápidamente modelos de redes neuronales con menos líneas de código. Ideal para prototipos rápidos y experimentación.\n",
        "\n",
        "# Scikit-learn\n",
        "\n",
        "Aunque Scikit-learn no está diseñado específicamente para redes neuronales profundas, proporciona implementaciones básicas de perceptrones multicapa (MLP) que son útiles para tareas más simples.\n",
        "\n",
        "Es ideal para modelos menos complejos y tareas de preprocesamiento de datos."
      ],
      "metadata": {
        "id": "oHlROAE4Zuu4"
      }
    },
    {
      "cell_type": "code",
      "execution_count": null,
      "metadata": {
        "id": "oqlXChGWIzf0"
      },
      "outputs": [],
      "source": [
        "#Ejecute las librerías\n",
        "import numpy as np\n",
        "import pandas as pd\n",
        "import tensorflow as tf\n",
        "import matplotlib.pyplot as plt\n",
        "from sklearn.model_selection import train_test_split\n",
        "from sklearn.preprocessing import StandardScaler\n",
        "from tensorflow.keras.models import Sequential\n",
        "from tensorflow.keras.layers import Dense"
      ]
    },
    {
      "cell_type": "code",
      "source": [
        "#Abre una ventana de exploración para carga de documentos .sav\n",
        "#from google.colab import files\n",
        "# Subir archivos .sav\n",
        "uploaded = files.upload()"
      ],
      "metadata": {
        "id": "6rzymhLvKHzd",
        "colab": {
          "base_uri": "https://localhost:8080/",
          "height": 340
        },
        "outputId": "64d53de6-4b3c-4e86-86c4-4cf7a95c3235"
      },
      "execution_count": 1,
      "outputs": [
        {
          "output_type": "display_data",
          "data": {
            "text/plain": [
              "<IPython.core.display.HTML object>"
            ],
            "text/html": [
              "\n",
              "     <input type=\"file\" id=\"files-b69b1c31-afaf-4c8e-a2ee-4f279e5249e6\" name=\"files[]\" multiple disabled\n",
              "        style=\"border:none\" />\n",
              "     <output id=\"result-b69b1c31-afaf-4c8e-a2ee-4f279e5249e6\">\n",
              "      Upload widget is only available when the cell has been executed in the\n",
              "      current browser session. Please rerun this cell to enable.\n",
              "      </output>\n",
              "      <script>// Copyright 2017 Google LLC\n",
              "//\n",
              "// Licensed under the Apache License, Version 2.0 (the \"License\");\n",
              "// you may not use this file except in compliance with the License.\n",
              "// You may obtain a copy of the License at\n",
              "//\n",
              "//      http://www.apache.org/licenses/LICENSE-2.0\n",
              "//\n",
              "// Unless required by applicable law or agreed to in writing, software\n",
              "// distributed under the License is distributed on an \"AS IS\" BASIS,\n",
              "// WITHOUT WARRANTIES OR CONDITIONS OF ANY KIND, either express or implied.\n",
              "// See the License for the specific language governing permissions and\n",
              "// limitations under the License.\n",
              "\n",
              "/**\n",
              " * @fileoverview Helpers for google.colab Python module.\n",
              " */\n",
              "(function(scope) {\n",
              "function span(text, styleAttributes = {}) {\n",
              "  const element = document.createElement('span');\n",
              "  element.textContent = text;\n",
              "  for (const key of Object.keys(styleAttributes)) {\n",
              "    element.style[key] = styleAttributes[key];\n",
              "  }\n",
              "  return element;\n",
              "}\n",
              "\n",
              "// Max number of bytes which will be uploaded at a time.\n",
              "const MAX_PAYLOAD_SIZE = 100 * 1024;\n",
              "\n",
              "function _uploadFiles(inputId, outputId) {\n",
              "  const steps = uploadFilesStep(inputId, outputId);\n",
              "  const outputElement = document.getElementById(outputId);\n",
              "  // Cache steps on the outputElement to make it available for the next call\n",
              "  // to uploadFilesContinue from Python.\n",
              "  outputElement.steps = steps;\n",
              "\n",
              "  return _uploadFilesContinue(outputId);\n",
              "}\n",
              "\n",
              "// This is roughly an async generator (not supported in the browser yet),\n",
              "// where there are multiple asynchronous steps and the Python side is going\n",
              "// to poll for completion of each step.\n",
              "// This uses a Promise to block the python side on completion of each step,\n",
              "// then passes the result of the previous step as the input to the next step.\n",
              "function _uploadFilesContinue(outputId) {\n",
              "  const outputElement = document.getElementById(outputId);\n",
              "  const steps = outputElement.steps;\n",
              "\n",
              "  const next = steps.next(outputElement.lastPromiseValue);\n",
              "  return Promise.resolve(next.value.promise).then((value) => {\n",
              "    // Cache the last promise value to make it available to the next\n",
              "    // step of the generator.\n",
              "    outputElement.lastPromiseValue = value;\n",
              "    return next.value.response;\n",
              "  });\n",
              "}\n",
              "\n",
              "/**\n",
              " * Generator function which is called between each async step of the upload\n",
              " * process.\n",
              " * @param {string} inputId Element ID of the input file picker element.\n",
              " * @param {string} outputId Element ID of the output display.\n",
              " * @return {!Iterable<!Object>} Iterable of next steps.\n",
              " */\n",
              "function* uploadFilesStep(inputId, outputId) {\n",
              "  const inputElement = document.getElementById(inputId);\n",
              "  inputElement.disabled = false;\n",
              "\n",
              "  const outputElement = document.getElementById(outputId);\n",
              "  outputElement.innerHTML = '';\n",
              "\n",
              "  const pickedPromise = new Promise((resolve) => {\n",
              "    inputElement.addEventListener('change', (e) => {\n",
              "      resolve(e.target.files);\n",
              "    });\n",
              "  });\n",
              "\n",
              "  const cancel = document.createElement('button');\n",
              "  inputElement.parentElement.appendChild(cancel);\n",
              "  cancel.textContent = 'Cancel upload';\n",
              "  const cancelPromise = new Promise((resolve) => {\n",
              "    cancel.onclick = () => {\n",
              "      resolve(null);\n",
              "    };\n",
              "  });\n",
              "\n",
              "  // Wait for the user to pick the files.\n",
              "  const files = yield {\n",
              "    promise: Promise.race([pickedPromise, cancelPromise]),\n",
              "    response: {\n",
              "      action: 'starting',\n",
              "    }\n",
              "  };\n",
              "\n",
              "  cancel.remove();\n",
              "\n",
              "  // Disable the input element since further picks are not allowed.\n",
              "  inputElement.disabled = true;\n",
              "\n",
              "  if (!files) {\n",
              "    return {\n",
              "      response: {\n",
              "        action: 'complete',\n",
              "      }\n",
              "    };\n",
              "  }\n",
              "\n",
              "  for (const file of files) {\n",
              "    const li = document.createElement('li');\n",
              "    li.append(span(file.name, {fontWeight: 'bold'}));\n",
              "    li.append(span(\n",
              "        `(${file.type || 'n/a'}) - ${file.size} bytes, ` +\n",
              "        `last modified: ${\n",
              "            file.lastModifiedDate ? file.lastModifiedDate.toLocaleDateString() :\n",
              "                                    'n/a'} - `));\n",
              "    const percent = span('0% done');\n",
              "    li.appendChild(percent);\n",
              "\n",
              "    outputElement.appendChild(li);\n",
              "\n",
              "    const fileDataPromise = new Promise((resolve) => {\n",
              "      const reader = new FileReader();\n",
              "      reader.onload = (e) => {\n",
              "        resolve(e.target.result);\n",
              "      };\n",
              "      reader.readAsArrayBuffer(file);\n",
              "    });\n",
              "    // Wait for the data to be ready.\n",
              "    let fileData = yield {\n",
              "      promise: fileDataPromise,\n",
              "      response: {\n",
              "        action: 'continue',\n",
              "      }\n",
              "    };\n",
              "\n",
              "    // Use a chunked sending to avoid message size limits. See b/62115660.\n",
              "    let position = 0;\n",
              "    do {\n",
              "      const length = Math.min(fileData.byteLength - position, MAX_PAYLOAD_SIZE);\n",
              "      const chunk = new Uint8Array(fileData, position, length);\n",
              "      position += length;\n",
              "\n",
              "      const base64 = btoa(String.fromCharCode.apply(null, chunk));\n",
              "      yield {\n",
              "        response: {\n",
              "          action: 'append',\n",
              "          file: file.name,\n",
              "          data: base64,\n",
              "        },\n",
              "      };\n",
              "\n",
              "      let percentDone = fileData.byteLength === 0 ?\n",
              "          100 :\n",
              "          Math.round((position / fileData.byteLength) * 100);\n",
              "      percent.textContent = `${percentDone}% done`;\n",
              "\n",
              "    } while (position < fileData.byteLength);\n",
              "  }\n",
              "\n",
              "  // All done.\n",
              "  yield {\n",
              "    response: {\n",
              "      action: 'complete',\n",
              "    }\n",
              "  };\n",
              "}\n",
              "\n",
              "scope.google = scope.google || {};\n",
              "scope.google.colab = scope.google.colab || {};\n",
              "scope.google.colab._files = {\n",
              "  _uploadFiles,\n",
              "  _uploadFilesContinue,\n",
              "};\n",
              "})(self);\n",
              "</script> "
            ]
          },
          "metadata": {}
        },
        {
          "output_type": "error",
          "ename": "KeyboardInterrupt",
          "evalue": "",
          "traceback": [
            "\u001b[0;31m---------------------------------------------------------------------------\u001b[0m",
            "\u001b[0;31mKeyboardInterrupt\u001b[0m                         Traceback (most recent call last)",
            "\u001b[0;32m<ipython-input-1-a8a16e6bc853>\u001b[0m in \u001b[0;36m<cell line: 4>\u001b[0;34m()\u001b[0m\n\u001b[1;32m      2\u001b[0m \u001b[0;34m\u001b[0m\u001b[0m\n\u001b[1;32m      3\u001b[0m \u001b[0;31m# Subir archivos .sav\u001b[0m\u001b[0;34m\u001b[0m\u001b[0;34m\u001b[0m\u001b[0m\n\u001b[0;32m----> 4\u001b[0;31m \u001b[0muploaded\u001b[0m \u001b[0;34m=\u001b[0m \u001b[0mfiles\u001b[0m\u001b[0;34m.\u001b[0m\u001b[0mupload\u001b[0m\u001b[0;34m(\u001b[0m\u001b[0;34m)\u001b[0m\u001b[0;34m\u001b[0m\u001b[0;34m\u001b[0m\u001b[0m\n\u001b[0m",
            "\u001b[0;32m/usr/local/lib/python3.10/dist-packages/google/colab/files.py\u001b[0m in \u001b[0;36mupload\u001b[0;34m(target_dir)\u001b[0m\n\u001b[1;32m     70\u001b[0m   \"\"\"\n\u001b[1;32m     71\u001b[0m \u001b[0;34m\u001b[0m\u001b[0m\n\u001b[0;32m---> 72\u001b[0;31m   \u001b[0muploaded_files\u001b[0m \u001b[0;34m=\u001b[0m \u001b[0m_upload_files\u001b[0m\u001b[0;34m(\u001b[0m\u001b[0mmultiple\u001b[0m\u001b[0;34m=\u001b[0m\u001b[0;32mTrue\u001b[0m\u001b[0;34m)\u001b[0m\u001b[0;34m\u001b[0m\u001b[0;34m\u001b[0m\u001b[0m\n\u001b[0m\u001b[1;32m     73\u001b[0m   \u001b[0;31m# Mapping from original filename to filename as saved locally.\u001b[0m\u001b[0;34m\u001b[0m\u001b[0;34m\u001b[0m\u001b[0m\n\u001b[1;32m     74\u001b[0m   \u001b[0mlocal_filenames\u001b[0m \u001b[0;34m=\u001b[0m \u001b[0mdict\u001b[0m\u001b[0;34m(\u001b[0m\u001b[0;34m)\u001b[0m\u001b[0;34m\u001b[0m\u001b[0;34m\u001b[0m\u001b[0m\n",
            "\u001b[0;32m/usr/local/lib/python3.10/dist-packages/google/colab/files.py\u001b[0m in \u001b[0;36m_upload_files\u001b[0;34m(multiple)\u001b[0m\n\u001b[1;32m    162\u001b[0m \u001b[0;34m\u001b[0m\u001b[0m\n\u001b[1;32m    163\u001b[0m   \u001b[0;31m# First result is always an indication that the file picker has completed.\u001b[0m\u001b[0;34m\u001b[0m\u001b[0;34m\u001b[0m\u001b[0m\n\u001b[0;32m--> 164\u001b[0;31m   result = _output.eval_js(\n\u001b[0m\u001b[1;32m    165\u001b[0m       'google.colab._files._uploadFiles(\"{input_id}\", \"{output_id}\")'.format(\n\u001b[1;32m    166\u001b[0m           \u001b[0minput_id\u001b[0m\u001b[0;34m=\u001b[0m\u001b[0minput_id\u001b[0m\u001b[0;34m,\u001b[0m \u001b[0moutput_id\u001b[0m\u001b[0;34m=\u001b[0m\u001b[0moutput_id\u001b[0m\u001b[0;34m\u001b[0m\u001b[0;34m\u001b[0m\u001b[0m\n",
            "\u001b[0;32m/usr/local/lib/python3.10/dist-packages/google/colab/output/_js.py\u001b[0m in \u001b[0;36meval_js\u001b[0;34m(script, ignore_result, timeout_sec)\u001b[0m\n\u001b[1;32m     38\u001b[0m   \u001b[0;32mif\u001b[0m \u001b[0mignore_result\u001b[0m\u001b[0;34m:\u001b[0m\u001b[0;34m\u001b[0m\u001b[0;34m\u001b[0m\u001b[0m\n\u001b[1;32m     39\u001b[0m     \u001b[0;32mreturn\u001b[0m\u001b[0;34m\u001b[0m\u001b[0;34m\u001b[0m\u001b[0m\n\u001b[0;32m---> 40\u001b[0;31m   \u001b[0;32mreturn\u001b[0m \u001b[0m_message\u001b[0m\u001b[0;34m.\u001b[0m\u001b[0mread_reply_from_input\u001b[0m\u001b[0;34m(\u001b[0m\u001b[0mrequest_id\u001b[0m\u001b[0;34m,\u001b[0m \u001b[0mtimeout_sec\u001b[0m\u001b[0;34m)\u001b[0m\u001b[0;34m\u001b[0m\u001b[0;34m\u001b[0m\u001b[0m\n\u001b[0m\u001b[1;32m     41\u001b[0m \u001b[0;34m\u001b[0m\u001b[0m\n\u001b[1;32m     42\u001b[0m \u001b[0;34m\u001b[0m\u001b[0m\n",
            "\u001b[0;32m/usr/local/lib/python3.10/dist-packages/google/colab/_message.py\u001b[0m in \u001b[0;36mread_reply_from_input\u001b[0;34m(message_id, timeout_sec)\u001b[0m\n\u001b[1;32m     94\u001b[0m     \u001b[0mreply\u001b[0m \u001b[0;34m=\u001b[0m \u001b[0m_read_next_input_message\u001b[0m\u001b[0;34m(\u001b[0m\u001b[0;34m)\u001b[0m\u001b[0;34m\u001b[0m\u001b[0;34m\u001b[0m\u001b[0m\n\u001b[1;32m     95\u001b[0m     \u001b[0;32mif\u001b[0m \u001b[0mreply\u001b[0m \u001b[0;34m==\u001b[0m \u001b[0m_NOT_READY\u001b[0m \u001b[0;32mor\u001b[0m \u001b[0;32mnot\u001b[0m \u001b[0misinstance\u001b[0m\u001b[0;34m(\u001b[0m\u001b[0mreply\u001b[0m\u001b[0;34m,\u001b[0m \u001b[0mdict\u001b[0m\u001b[0;34m)\u001b[0m\u001b[0;34m:\u001b[0m\u001b[0;34m\u001b[0m\u001b[0;34m\u001b[0m\u001b[0m\n\u001b[0;32m---> 96\u001b[0;31m       \u001b[0mtime\u001b[0m\u001b[0;34m.\u001b[0m\u001b[0msleep\u001b[0m\u001b[0;34m(\u001b[0m\u001b[0;36m0.025\u001b[0m\u001b[0;34m)\u001b[0m\u001b[0;34m\u001b[0m\u001b[0;34m\u001b[0m\u001b[0m\n\u001b[0m\u001b[1;32m     97\u001b[0m       \u001b[0;32mcontinue\u001b[0m\u001b[0;34m\u001b[0m\u001b[0;34m\u001b[0m\u001b[0m\n\u001b[1;32m     98\u001b[0m     if (\n",
            "\u001b[0;31mKeyboardInterrupt\u001b[0m: "
          ]
        }
      ]
    },
    {
      "cell_type": "code",
      "source": [
        "!pip install pyreadstat\n",
        "import pyreadstat\n",
        "\n",
        "# Cargar archivos .sav\n",
        "a_2018, meta1 = pyreadstat.read_sav(\"2018.sav\")\n",
        "a_2019, meta2 = pyreadstat.read_sav(\"2019.sav\")\n",
        "a_2020, meta3 = pyreadstat.read_sav(\"2020.sav\")\n",
        "a_2021, meta4 = pyreadstat.read_sav(\"2021.sav\")\n",
        "a_2022, meta4 = pyreadstat.read_sav(\"2022.sav\")\n",
        "\n",
        "# Visualizar los primeros registros\n",
        "print(a_2018.head())"
      ],
      "metadata": {
        "colab": {
          "base_uri": "https://localhost:8080/"
        },
        "id": "PmCLqTmsLNC6",
        "outputId": "289b4868-08d8-40fd-8e63-375896ee2ef8"
      },
      "execution_count": null,
      "outputs": [
        {
          "output_type": "stream",
          "name": "stdout",
          "text": [
            "Requirement already satisfied: pyreadstat in /usr/local/lib/python3.10/dist-packages (1.2.8)\n",
            "Requirement already satisfied: pandas>=1.2.0 in /usr/local/lib/python3.10/dist-packages (from pyreadstat) (2.2.2)\n",
            "Requirement already satisfied: numpy>=1.22.4 in /usr/local/lib/python3.10/dist-packages (from pandas>=1.2.0->pyreadstat) (1.26.4)\n",
            "Requirement already satisfied: python-dateutil>=2.8.2 in /usr/local/lib/python3.10/dist-packages (from pandas>=1.2.0->pyreadstat) (2.8.2)\n",
            "Requirement already satisfied: pytz>=2020.1 in /usr/local/lib/python3.10/dist-packages (from pandas>=1.2.0->pyreadstat) (2024.2)\n",
            "Requirement already satisfied: tzdata>=2022.7 in /usr/local/lib/python3.10/dist-packages (from pandas>=1.2.0->pyreadstat) (2024.2)\n",
            "Requirement already satisfied: six>=1.5 in /usr/local/lib/python3.10/dist-packages (from python-dateutil>=2.8.2->pandas>=1.2.0->pyreadstat) (1.16.0)\n",
            "      AÑO   MES  DIASESTANCIA  SEXO  PPERTENENCIA  EDAD  PERIODOEDA  \\\n",
            "0  2018.0   4.0           3.0   1.0           4.0  39.0         3.0   \n",
            "1  2018.0  11.0           5.0   1.0           4.0  22.0         3.0   \n",
            "2  2018.0   7.0           3.0   1.0           4.0  22.0         3.0   \n",
            "3  2018.0   8.0           3.0   2.0           9.0  43.0         3.0   \n",
            "4  2018.0   8.0           2.0   2.0           4.0  34.0         3.0   \n",
            "\n",
            "   DEPTORESIDEN MUNIRESIDEN CAUFIN  CONDIEGRES  TRATARECIB  \n",
            "0          23.0        2300   A010         1.0         1.0  \n",
            "1          23.0        2300   A010         1.0         1.0  \n",
            "2          20.0        2001   A010         1.0         1.0  \n",
            "3          19.0        1901   A010         1.0         1.0  \n",
            "4          18.0        1804   A010         1.0         1.0  \n"
          ]
        }
      ]
    },
    {
      "cell_type": "code",
      "source": [
        "# Concatenar filas\n",
        "d_total = pd.concat([a_2018,a_2019,a_2020,a_2021, a_2022], ignore_index=True)\n",
        "\n",
        "# Verificar resultado\n",
        "print(d_total.head())\n"
      ],
      "metadata": {
        "colab": {
          "base_uri": "https://localhost:8080/"
        },
        "id": "hkjagM63N72W",
        "outputId": "4d7aedd3-886b-42e3-b800-65b0e64a56c4"
      },
      "execution_count": null,
      "outputs": [
        {
          "output_type": "stream",
          "name": "stdout",
          "text": [
            "      AÑO   MES  DIASESTANCIA  SEXO  PPERTENENCIA  EDAD  PERIODOEDA  \\\n",
            "0  2018.0   4.0           3.0   1.0           4.0  39.0         3.0   \n",
            "1  2018.0  11.0           5.0   1.0           4.0  22.0         3.0   \n",
            "2  2018.0   7.0           3.0   1.0           4.0  22.0         3.0   \n",
            "3  2018.0   8.0           3.0   2.0           9.0  43.0         3.0   \n",
            "4  2018.0   8.0           2.0   2.0           4.0  34.0         3.0   \n",
            "\n",
            "   DEPTORESIDEN MUNIRESIDEN CAUFIN  CONDIEGRES  TRATARECIB  \n",
            "0          23.0        2300   A010         1.0         1.0  \n",
            "1          23.0        2300   A010         1.0         1.0  \n",
            "2          20.0        2001   A010         1.0         1.0  \n",
            "3          19.0        1901   A010         1.0         1.0  \n",
            "4          18.0        1804   A010         1.0         1.0  \n"
          ]
        }
      ]
    },
    {
      "cell_type": "code",
      "source": [
        "#Convirtiendo CAUFIN a factor\n",
        "# Convertir con One-Hot Encoding\n",
        "#dt_one_hot = pd.get_dummies(d_total, columns=['CAUFIN'])\n",
        "d_total['Cat_caufin'] = d_total['CAUFIN'].astype('category')\n",
        "\n",
        "# Ver el DataFrame con columnas One-Hot\n",
        "print(d_total)"
      ],
      "metadata": {
        "id": "6vDjMTwBXN26",
        "colab": {
          "base_uri": "https://localhost:8080/"
        },
        "outputId": "efae81d8-c62c-4e1a-885d-bbb960d2afb7"
      },
      "execution_count": null,
      "outputs": [
        {
          "output_type": "stream",
          "name": "stdout",
          "text": [
            "            AÑO   MES  DIASESTANCIA  SEXO  PPERTENENCIA  EDAD  PERIODOEDA  \\\n",
            "0        2018.0   4.0           3.0   1.0           4.0  39.0         3.0   \n",
            "1        2018.0  11.0           5.0   1.0           4.0  22.0         3.0   \n",
            "2        2018.0   7.0           3.0   1.0           4.0  22.0         3.0   \n",
            "3        2018.0   8.0           3.0   2.0           9.0  43.0         3.0   \n",
            "4        2018.0   8.0           2.0   2.0           4.0  34.0         3.0   \n",
            "...         ...   ...           ...   ...           ...   ...         ...   \n",
            "1208567  2022.0   1.0        9999.0   1.0           4.0  82.0         3.0   \n",
            "1208568  2022.0   3.0        9999.0   1.0           9.0  84.0         3.0   \n",
            "1208569  2022.0   1.0        9999.0   2.0           4.0  86.0         3.0   \n",
            "1208570  2022.0  10.0        9999.0   2.0           4.0  87.0         3.0   \n",
            "1208571  2022.0   1.0        9999.0   1.0           4.0  90.0         3.0   \n",
            "\n",
            "         DEPTORESIDEN MUNIRESIDEN CAUFIN  CONDIEGRES  TRATARECIB Cat_caufin  \n",
            "0                23.0        2300   A010         1.0         1.0       A010  \n",
            "1                23.0        2300   A010         1.0         1.0       A010  \n",
            "2                20.0        2001   A010         1.0         1.0       A010  \n",
            "3                19.0        1901   A010         1.0         1.0       A010  \n",
            "4                18.0        1804   A010         1.0         1.0       A010  \n",
            "...               ...         ...    ...         ...         ...        ...  \n",
            "1208567           1.0        0101   Z988         1.0         1.0       Z988  \n",
            "1208568           1.0        0101   Z988         1.0         1.0       Z988  \n",
            "1208569           1.0        0101   Z988         1.0         1.0       Z988  \n",
            "1208570           1.0        0101   Z988         1.0         1.0       Z988  \n",
            "1208571          10.0        1001   Z988         1.0         1.0       Z988  \n",
            "\n",
            "[1208572 rows x 13 columns]\n"
          ]
        }
      ]
    },
    {
      "cell_type": "code",
      "source": [
        "#Ver la columna CAUFIN\n",
        "print(d_total['CAUFIN'])"
      ],
      "metadata": {
        "colab": {
          "base_uri": "https://localhost:8080/"
        },
        "id": "uYxCzSD-taZd",
        "outputId": "2ff238d1-c550-48eb-8c15-be9a097a6495"
      },
      "execution_count": null,
      "outputs": [
        {
          "output_type": "stream",
          "name": "stdout",
          "text": [
            "0          A010\n",
            "1          A010\n",
            "2          A010\n",
            "3          A010\n",
            "4          A010\n",
            "           ... \n",
            "1208567    Z988\n",
            "1208568    Z988\n",
            "1208569    Z988\n",
            "1208570    Z988\n",
            "1208571    Z988\n",
            "Name: CAUFIN, Length: 1208572, dtype: object\n"
          ]
        }
      ]
    },
    {
      "cell_type": "code",
      "source": [
        "import pandas as pd\n",
        "# Ver el número de filas\n",
        "print(\"Número de filas:\", len(d_total))\n",
        "\n",
        "# Ver el número de columnas\n",
        "print(\"Número de columnas:\", len(d_total.columns))\n",
        "\n",
        "# Método alternativo que muestra ambos a la vez\n",
        "print(\"Forma del dataset (filas, columnas):\", d_total.shape)"
      ],
      "metadata": {
        "colab": {
          "base_uri": "https://localhost:8080/"
        },
        "id": "5olCFAbUiDrL",
        "outputId": "d96fee5e-78ea-4a00-f72b-a2fdd9d1aa1e"
      },
      "execution_count": null,
      "outputs": [
        {
          "output_type": "stream",
          "name": "stdout",
          "text": [
            "Número de filas: 1208572\n",
            "Número de columnas: 13\n",
            "Forma del dataset (filas, columnas): (1208572, 13)\n"
          ]
        }
      ]
    },
    {
      "cell_type": "code",
      "source": [
        "#Aleatoriedad\n",
        "d_total = d_total.sample(frac = 1, random_state = 42).reset_index(drop=True)"
      ],
      "metadata": {
        "id": "Il7Uk6t8TwOZ"
      },
      "execution_count": null,
      "outputs": []
    },
    {
      "cell_type": "code",
      "source": [
        "#Selección de la data\n",
        "X = d_total[['SEXO','DIASESTANCIA','DEPTORESIDEN']]\n",
        "y = d_total['Cat_caufin']"
      ],
      "metadata": {
        "id": "ae-j5YosUyI4"
      },
      "execution_count": null,
      "outputs": []
    },
    {
      "source": [
        "#Datos de entrenamiento\n",
        "from sklearn.model_selection import train_test_split\n",
        "from sklearn.preprocessing import LabelEncoder\n",
        "\n",
        "X_train, X_test, y_train, y_test  = train_test_split(X, y, test_size = 0.2, random_state = 42)\n",
        "\n",
        "X_train = X_train.replace(' ', np.nan).dropna().astype('float32')\n",
        "# Inicializando LabelEncoder\n",
        "label_encoder = LabelEncoder()\n",
        "# Fit and transform y_train\n",
        "#Fit on all unique values to avoid unseen labels during transform\n",
        "all_unique_labels = pd.concat([y_train[X_train.index], y_test[X_test.index]]).unique()\n",
        "label_encoder.fit(all_unique_labels)\n",
        "y_train = label_encoder.transform(y_train[X_train.index]).astype('float32')\n",
        "\n",
        "X_test = X_test.replace(' ', np.nan).dropna().astype('float32')\n",
        "# Transform y_test using the same encoder\n",
        "y_test = label_encoder.transform(y_test[X_test.index]).astype('float32')"
      ],
      "cell_type": "code",
      "metadata": {
        "id": "pjLpdmZUy5yG"
      },
      "execution_count": null,
      "outputs": []
    },
    {
      "cell_type": "code",
      "source": [
        "#Densidad de las capas, relu: función de activación de la capa (cambia valores negativos a positivos), introduce no linealidades\n",
        "#sigmoid salida que representa la probabilidad de pertenencia a una de las clases\n",
        "model = Sequential()\n",
        "model.add(Dense(3, input_dim = 3, activation = 'relu'))\n",
        "model.add(Dense(8, activation='relu'))\n",
        "model.add(Dense(1, activation='sigmoid'))"
      ],
      "metadata": {
        "colab": {
          "base_uri": "https://localhost:8080/"
        },
        "id": "h31HRtcTWKCH",
        "outputId": "54990438-f342-46cd-8f58-3bccaf6cb5e4"
      },
      "execution_count": null,
      "outputs": [
        {
          "output_type": "stream",
          "name": "stderr",
          "text": [
            "/usr/local/lib/python3.10/dist-packages/keras/src/layers/core/dense.py:87: UserWarning: Do not pass an `input_shape`/`input_dim` argument to a layer. When using Sequential models, prefer using an `Input(shape)` object as the first layer in the model instead.\n",
            "  super().__init__(activity_regularizer=activity_regularizer, **kwargs)\n"
          ]
        }
      ]
    },
    {
      "cell_type": "code",
      "source": [
        "model.compile(loss ='binary_crossentropy', optimizer ='adam', metrics =['accuracy'])"
      ],
      "metadata": {
        "id": "Hdh9H-m5Zp0p"
      },
      "execution_count": null,
      "outputs": []
    },
    {
      "cell_type": "code",
      "source": [
        "#Entrenamiento\n",
        "model.fit(X_train, y_train, epochs = 50, batch_size = 200, validation_data=(X_test, y_test))\n"
      ],
      "metadata": {
        "colab": {
          "base_uri": "https://localhost:8080/"
        },
        "id": "cXiK1N12Zqj0",
        "outputId": "bad3872c-a755-42fb-db96-5c6f636bc547"
      },
      "execution_count": null,
      "outputs": [
        {
          "output_type": "stream",
          "name": "stdout",
          "text": [
            "Epoch 1/50\n",
            "\u001b[1m4835/4835\u001b[0m \u001b[32m━━━━━━━━━━━━━━━━━━━━\u001b[0m\u001b[37m\u001b[0m \u001b[1m11s\u001b[0m 2ms/step - accuracy: 9.2783e-07 - loss: -13305356233973170176.0000 - val_accuracy: 4.1371e-06 - val_loss: -14117100379992752128.0000\n",
            "Epoch 2/50\n",
            "\u001b[1m4835/4835\u001b[0m \u001b[32m━━━━━━━━━━━━━━━━━━━━\u001b[0m\u001b[37m\u001b[0m \u001b[1m23s\u001b[0m 3ms/step - accuracy: 4.4015e-06 - loss: -14240004889257181184.0000 - val_accuracy: 4.1371e-06 - val_loss: -15207310139397767168.0000\n",
            "Epoch 3/50\n",
            "\u001b[1m4835/4835\u001b[0m \u001b[32m━━━━━━━━━━━━━━━━━━━━\u001b[0m\u001b[37m\u001b[0m \u001b[1m12s\u001b[0m 3ms/step - accuracy: 8.2034e-07 - loss: -15425521416069447680.0000 - val_accuracy: 4.1371e-06 - val_loss: -16361763263702106112.0000\n",
            "Epoch 4/50\n",
            "\u001b[1m4835/4835\u001b[0m \u001b[32m━━━━━━━━━━━━━━━━━━━━\u001b[0m\u001b[37m\u001b[0m \u001b[1m20s\u001b[0m 2ms/step - accuracy: 8.1562e-07 - loss: -16640563128622383104.0000 - val_accuracy: 4.1371e-06 - val_loss: -17577326144766607360.0000\n",
            "Epoch 5/50\n",
            "\u001b[1m4835/4835\u001b[0m \u001b[32m━━━━━━━━━━━━━━━━━━━━\u001b[0m\u001b[37m\u001b[0m \u001b[1m13s\u001b[0m 3ms/step - accuracy: 2.6260e-06 - loss: -17882691310125580288.0000 - val_accuracy: 4.1371e-06 - val_loss: -18860320974450982912.0000\n",
            "Epoch 6/50\n",
            "\u001b[1m4835/4835\u001b[0m \u001b[32m━━━━━━━━━━━━━━━━━━━━\u001b[0m\u001b[37m\u001b[0m \u001b[1m14s\u001b[0m 3ms/step - accuracy: 3.1407e-07 - loss: -19043125777685020672.0000 - val_accuracy: 4.1371e-06 - val_loss: -20217391002010255360.0000\n",
            "Epoch 7/50\n",
            "\u001b[1m4835/4835\u001b[0m \u001b[32m━━━━━━━━━━━━━━━━━━━━\u001b[0m\u001b[37m\u001b[0m \u001b[1m21s\u001b[0m 3ms/step - accuracy: 3.5032e-07 - loss: -20669019801165758464.0000 - val_accuracy: 4.1371e-06 - val_loss: -21638646120352579584.0000\n",
            "Epoch 8/50\n",
            "\u001b[1m4835/4835\u001b[0m \u001b[32m━━━━━━━━━━━━━━━━━━━━\u001b[0m\u001b[37m\u001b[0m \u001b[1m15s\u001b[0m 3ms/step - accuracy: 1.4423e-08 - loss: -22111922104435736576.0000 - val_accuracy: 4.1371e-06 - val_loss: -23128965962082025472.0000\n",
            "Epoch 9/50\n",
            "\u001b[1m4835/4835\u001b[0m \u001b[32m━━━━━━━━━━━━━━━━━━━━\u001b[0m\u001b[37m\u001b[0m \u001b[1m16s\u001b[0m 3ms/step - accuracy: 4.6707e-07 - loss: -23628898506068983808.0000 - val_accuracy: 4.1371e-06 - val_loss: -24703451219894468608.0000\n",
            "Epoch 10/50\n",
            "\u001b[1m4835/4835\u001b[0m \u001b[32m━━━━━━━━━━━━━━━━━━━━\u001b[0m\u001b[37m\u001b[0m \u001b[1m20s\u001b[0m 4ms/step - accuracy: 2.8659e-06 - loss: -25307914334334091264.0000 - val_accuracy: 4.1371e-06 - val_loss: -26349943494209961984.0000\n",
            "Epoch 11/50\n",
            "\u001b[1m4835/4835\u001b[0m \u001b[32m━━━━━━━━━━━━━━━━━━━━\u001b[0m\u001b[37m\u001b[0m \u001b[1m18s\u001b[0m 3ms/step - accuracy: 1.4177e-06 - loss: -26717052834538323968.0000 - val_accuracy: 4.1371e-06 - val_loss: -28088915691537694720.0000\n",
            "Epoch 12/50\n",
            "\u001b[1m4835/4835\u001b[0m \u001b[32m━━━━━━━━━━━━━━━━━━━━\u001b[0m\u001b[37m\u001b[0m \u001b[1m16s\u001b[0m 3ms/step - accuracy: 1.0819e-06 - loss: -28913978221904527360.0000 - val_accuracy: 4.1371e-06 - val_loss: -29894329177508675584.0000\n",
            "Epoch 13/50\n",
            "\u001b[1m4835/4835\u001b[0m \u001b[32m━━━━━━━━━━━━━━━━━━━━\u001b[0m\u001b[37m\u001b[0m \u001b[1m18s\u001b[0m 3ms/step - accuracy: 5.1519e-07 - loss: -30489191356414558208.0000 - val_accuracy: 4.1371e-06 - val_loss: -31806454665001828352.0000\n",
            "Epoch 14/50\n",
            "\u001b[1m4835/4835\u001b[0m \u001b[32m━━━━━━━━━━━━━━━━━━━━\u001b[0m\u001b[37m\u001b[0m \u001b[1m13s\u001b[0m 3ms/step - accuracy: 3.0370e-08 - loss: -32391845650746048512.0000 - val_accuracy: 4.1371e-06 - val_loss: -33792210048160628736.0000\n",
            "Epoch 15/50\n",
            "\u001b[1m4835/4835\u001b[0m \u001b[32m━━━━━━━━━━━━━━━━━━━━\u001b[0m\u001b[37m\u001b[0m \u001b[1m11s\u001b[0m 2ms/step - accuracy: 8.2081e-07 - loss: -34337803111025868800.0000 - val_accuracy: 4.1371e-06 - val_loss: -35864365055030067200.0000\n",
            "Epoch 16/50\n",
            "\u001b[1m4835/4835\u001b[0m \u001b[32m━━━━━━━━━━━━━━━━━━━━\u001b[0m\u001b[37m\u001b[0m \u001b[1m23s\u001b[0m 3ms/step - accuracy: 1.6640e-07 - loss: -37069022979770286080.0000 - val_accuracy: 4.1371e-06 - val_loss: -38033505783562371072.0000\n",
            "Epoch 17/50\n",
            "\u001b[1m4835/4835\u001b[0m \u001b[32m━━━━━━━━━━━━━━━━━━━━\u001b[0m\u001b[37m\u001b[0m \u001b[1m13s\u001b[0m 3ms/step - accuracy: 8.1609e-07 - loss: -39143832207709175808.0000 - val_accuracy: 4.1371e-06 - val_loss: -40313699385523306496.0000\n",
            "Epoch 18/50\n",
            "\u001b[1m4835/4835\u001b[0m \u001b[32m━━━━━━━━━━━━━━━━━━━━\u001b[0m\u001b[37m\u001b[0m \u001b[1m19s\u001b[0m 2ms/step - accuracy: 3.6226e-06 - loss: -40608935849767206912.0000 - val_accuracy: 4.1371e-06 - val_loss: -42699687996308848640.0000\n",
            "Epoch 19/50\n",
            "\u001b[1m4835/4835\u001b[0m \u001b[32m━━━━━━━━━━━━━━━━━━━━\u001b[0m\u001b[37m\u001b[0m \u001b[1m11s\u001b[0m 2ms/step - accuracy: 1.1204e-06 - loss: -43491217621051768832.0000 - val_accuracy: 4.1371e-06 - val_loss: -45180546868385415168.0000\n",
            "Epoch 20/50\n",
            "\u001b[1m4835/4835\u001b[0m \u001b[32m━━━━━━━━━━━━━━━━━━━━\u001b[0m\u001b[37m\u001b[0m \u001b[1m12s\u001b[0m 2ms/step - accuracy: 5.3186e-07 - loss: -45756603000409817088.0000 - val_accuracy: 4.1371e-06 - val_loss: -47764940153379880960.0000\n",
            "Epoch 21/50\n",
            "\u001b[1m4835/4835\u001b[0m \u001b[32m━━━━━━━━━━━━━━━━━━━━\u001b[0m\u001b[37m\u001b[0m \u001b[1m13s\u001b[0m 3ms/step - accuracy: 1.1267e-06 - loss: -48604773522954256384.0000 - val_accuracy: 4.1371e-06 - val_loss: -50450506100315783168.0000\n",
            "Epoch 22/50\n",
            "\u001b[1m4835/4835\u001b[0m \u001b[32m━━━━━━━━━━━━━━━━━━━━\u001b[0m\u001b[37m\u001b[0m \u001b[1m13s\u001b[0m 3ms/step - accuracy: 6.3282e-07 - loss: -50901486187610898432.0000 - val_accuracy: 4.1371e-06 - val_loss: -53260321259236884480.0000\n",
            "Epoch 23/50\n",
            "\u001b[1m4835/4835\u001b[0m \u001b[32m━━━━━━━━━━━━━━━━━━━━\u001b[0m\u001b[37m\u001b[0m \u001b[1m12s\u001b[0m 2ms/step - accuracy: 6.5554e-07 - loss: -53658586361049907200.0000 - val_accuracy: 4.1371e-06 - val_loss: -56173195842052685824.0000\n",
            "Epoch 24/50\n",
            "\u001b[1m4835/4835\u001b[0m \u001b[32m━━━━━━━━━━━━━━━━━━━━\u001b[0m\u001b[37m\u001b[0m \u001b[1m13s\u001b[0m 3ms/step - accuracy: 3.2133e-07 - loss: -57692901231546073088.0000 - val_accuracy: 4.1371e-06 - val_loss: -59210354821225775104.0000\n",
            "Epoch 25/50\n",
            "\u001b[1m4835/4835\u001b[0m \u001b[32m━━━━━━━━━━━━━━━━━━━━\u001b[0m\u001b[37m\u001b[0m \u001b[1m12s\u001b[0m 2ms/step - accuracy: 1.5709e-06 - loss: -60084620496935583744.0000 - val_accuracy: 4.1371e-06 - val_loss: -62383672922336133120.0000\n",
            "Epoch 26/50\n",
            "\u001b[1m4835/4835\u001b[0m \u001b[32m━━━━━━━━━━━━━━━━━━━━\u001b[0m\u001b[37m\u001b[0m \u001b[1m20s\u001b[0m 2ms/step - accuracy: 2.4381e-06 - loss: -63128222614247440384.0000 - val_accuracy: 4.1371e-06 - val_loss: -65668666220456443904.0000\n",
            "Epoch 27/50\n",
            "\u001b[1m4835/4835\u001b[0m \u001b[32m━━━━━━━━━━━━━━━━━━━━\u001b[0m\u001b[37m\u001b[0m \u001b[1m12s\u001b[0m 3ms/step - accuracy: 1.2993e-06 - loss: -66147639873794736128.0000 - val_accuracy: 4.1371e-06 - val_loss: -69071505174841786368.0000\n",
            "Epoch 28/50\n",
            "\u001b[1m4835/4835\u001b[0m \u001b[32m━━━━━━━━━━━━━━━━━━━━\u001b[0m\u001b[37m\u001b[0m \u001b[1m22s\u001b[0m 3ms/step - accuracy: 4.9878e-07 - loss: -69768428421084348416.0000 - val_accuracy: 4.1371e-06 - val_loss: -72616774865489231872.0000\n",
            "Epoch 29/50\n",
            "\u001b[1m4835/4835\u001b[0m \u001b[32m━━━━━━━━━━━━━━━━━━━━\u001b[0m\u001b[37m\u001b[0m \u001b[1m12s\u001b[0m 2ms/step - accuracy: 6.5068e-08 - loss: -73289060255176589312.0000 - val_accuracy: 4.1371e-06 - val_loss: -76309783734537682944.0000\n",
            "Epoch 30/50\n",
            "\u001b[1m4835/4835\u001b[0m \u001b[32m━━━━━━━━━━━━━━━━━━━━\u001b[0m\u001b[37m\u001b[0m \u001b[1m12s\u001b[0m 2ms/step - accuracy: 1.6016e-06 - loss: -78005591304382185472.0000 - val_accuracy: 4.1371e-06 - val_loss: -80130551456687194112.0000\n",
            "Epoch 31/50\n",
            "\u001b[1m4835/4835\u001b[0m \u001b[32m━━━━━━━━━━━━━━━━━━━━\u001b[0m\u001b[37m\u001b[0m \u001b[1m12s\u001b[0m 2ms/step - accuracy: 1.2595e-06 - loss: -81567481212795092992.0000 - val_accuracy: 4.1371e-06 - val_loss: -84078598644868055040.0000\n",
            "Epoch 32/50\n",
            "\u001b[1m4835/4835\u001b[0m \u001b[32m━━━━━━━━━━━━━━━━━━━━\u001b[0m\u001b[37m\u001b[0m \u001b[1m20s\u001b[0m 2ms/step - accuracy: 3.2836e-07 - loss: -83872558961915854848.0000 - val_accuracy: 4.1371e-06 - val_loss: -88204801901120716800.0000\n",
            "Epoch 33/50\n",
            "\u001b[1m4835/4835\u001b[0m \u001b[32m━━━━━━━━━━━━━━━━━━━━\u001b[0m\u001b[37m\u001b[0m \u001b[1m21s\u001b[0m 3ms/step - accuracy: 1.4847e-06 - loss: -90048770861831290880.0000 - val_accuracy: 4.1371e-06 - val_loss: -92459120252241838080.0000\n",
            "Epoch 34/50\n",
            "\u001b[1m4835/4835\u001b[0m \u001b[32m━━━━━━━━━━━━━━━━━━━━\u001b[0m\u001b[37m\u001b[0m \u001b[1m21s\u001b[0m 3ms/step - accuracy: 8.3031e-07 - loss: -93423946103661789184.0000 - val_accuracy: 4.1371e-06 - val_loss: -96863121718321872896.0000\n",
            "Epoch 35/50\n",
            "\u001b[1m4835/4835\u001b[0m \u001b[32m━━━━━━━━━━━━━━━━━━━━\u001b[0m\u001b[37m\u001b[0m \u001b[1m12s\u001b[0m 2ms/step - accuracy: 3.6085e-06 - loss: -98680799156989067264.0000 - val_accuracy: 4.1371e-06 - val_loss: -101440995555171893248.0000\n",
            "Epoch 36/50\n",
            "\u001b[1m4835/4835\u001b[0m \u001b[32m━━━━━━━━━━━━━━━━━━━━\u001b[0m\u001b[37m\u001b[0m \u001b[1m21s\u001b[0m 3ms/step - accuracy: 1.1479e-06 - loss: -103990024148170571776.0000 - val_accuracy: 4.1371e-06 - val_loss: -106125442855078985728.0000\n",
            "Epoch 37/50\n",
            "\u001b[1m4835/4835\u001b[0m \u001b[32m━━━━━━━━━━━━━━━━━━━━\u001b[0m\u001b[37m\u001b[0m \u001b[1m15s\u001b[0m 3ms/step - accuracy: 1.4135e-07 - loss: -106768595584676790272.0000 - val_accuracy: 4.1371e-06 - val_loss: -111008840186962378752.0000\n",
            "Epoch 38/50\n",
            "\u001b[1m4835/4835\u001b[0m \u001b[32m━━━━━━━━━━━━━━━━━━━━\u001b[0m\u001b[37m\u001b[0m \u001b[1m22s\u001b[0m 3ms/step - accuracy: 1.9157e-07 - loss: -113524672324895244288.0000 - val_accuracy: 4.1371e-06 - val_loss: -116038384604409757696.0000\n",
            "Epoch 39/50\n",
            "\u001b[1m4835/4835\u001b[0m \u001b[32m━━━━━━━━━━━━━━━━━━━━\u001b[0m\u001b[37m\u001b[0m \u001b[1m21s\u001b[0m 4ms/step - accuracy: 1.6553e-06 - loss: -119045575294656184320.0000 - val_accuracy: 4.1371e-06 - val_loss: -121250588689556307968.0000\n",
            "Epoch 40/50\n",
            "\u001b[1m4835/4835\u001b[0m \u001b[32m━━━━━━━━━━━━━━━━━━━━\u001b[0m\u001b[37m\u001b[0m \u001b[1m19s\u001b[0m 3ms/step - accuracy: 2.2487e-06 - loss: -123689129558103031808.0000 - val_accuracy: 4.1371e-06 - val_loss: -126631941643519918080.0000\n",
            "Epoch 41/50\n",
            "\u001b[1m4835/4835\u001b[0m \u001b[32m━━━━━━━━━━━━━━━━━━━━\u001b[0m\u001b[37m\u001b[0m \u001b[1m21s\u001b[0m 3ms/step - accuracy: 2.4662e-08 - loss: -126220609945522405376.0000 - val_accuracy: 4.1371e-06 - val_loss: -132214549205831647232.0000\n",
            "Epoch 42/50\n",
            "\u001b[1m4835/4835\u001b[0m \u001b[32m━━━━━━━━━━━━━━━━━━━━\u001b[0m\u001b[37m\u001b[0m \u001b[1m17s\u001b[0m 3ms/step - accuracy: 1.2380e-06 - loss: -134272175266051653632.0000 - val_accuracy: 4.1371e-06 - val_loss: -137948581509520687104.0000\n",
            "Epoch 43/50\n",
            "\u001b[1m4835/4835\u001b[0m \u001b[32m━━━━━━━━━━━━━━━━━━━━\u001b[0m\u001b[37m\u001b[0m \u001b[1m18s\u001b[0m 3ms/step - accuracy: 3.0733e-06 - loss: -139640518798435418112.0000 - val_accuracy: 4.1371e-06 - val_loss: -143847443800352882688.0000\n",
            "Epoch 44/50\n",
            "\u001b[1m4835/4835\u001b[0m \u001b[32m━━━━━━━━━━━━━━━━━━━━\u001b[0m\u001b[37m\u001b[0m \u001b[1m23s\u001b[0m 4ms/step - accuracy: 1.1564e-06 - loss: -144820573163585798144.0000 - val_accuracy: 4.1371e-06 - val_loss: -149989817130411884544.0000\n",
            "Epoch 45/50\n",
            "\u001b[1m4835/4835\u001b[0m \u001b[32m━━━━━━━━━━━━━━━━━━━━\u001b[0m\u001b[37m\u001b[0m \u001b[1m14s\u001b[0m 3ms/step - accuracy: 3.3119e-06 - loss: -150266120004425482240.0000 - val_accuracy: 4.1371e-06 - val_loss: -156307786865473224704.0000\n",
            "Epoch 46/50\n",
            "\u001b[1m4835/4835\u001b[0m \u001b[32m━━━━━━━━━━━━━━━━━━━━\u001b[0m\u001b[37m\u001b[0m \u001b[1m13s\u001b[0m 3ms/step - accuracy: 1.5194e-06 - loss: -159321398703625863168.0000 - val_accuracy: 4.1371e-06 - val_loss: -162827415829161705472.0000\n",
            "Epoch 47/50\n",
            "\u001b[1m4835/4835\u001b[0m \u001b[32m━━━━━━━━━━━━━━━━━━━━\u001b[0m\u001b[37m\u001b[0m \u001b[1m14s\u001b[0m 3ms/step - accuracy: 2.5107e-06 - loss: -161050974474582622208.0000 - val_accuracy: 4.1371e-06 - val_loss: -169561071328266551296.0000\n",
            "Epoch 48/50\n",
            "\u001b[1m4835/4835\u001b[0m \u001b[32m━━━━━━━━━━━━━━━━━━━━\u001b[0m\u001b[37m\u001b[0m \u001b[1m12s\u001b[0m 2ms/step - accuracy: 5.6899e-07 - loss: -172331260088122605568.0000 - val_accuracy: 4.1371e-06 - val_loss: -176423360891728166912.0000\n",
            "Epoch 49/50\n",
            "\u001b[1m4835/4835\u001b[0m \u001b[32m━━━━━━━━━━━━━━━━━━━━\u001b[0m\u001b[37m\u001b[0m \u001b[1m22s\u001b[0m 3ms/step - accuracy: 2.1778e-06 - loss: -175846073306680655872.0000 - val_accuracy: 4.1371e-06 - val_loss: -183566404152272617472.0000\n",
            "Epoch 50/50\n",
            "\u001b[1m4835/4835\u001b[0m \u001b[32m━━━━━━━━━━━━━━━━━━━━\u001b[0m\u001b[37m\u001b[0m \u001b[1m19s\u001b[0m 2ms/step - accuracy: 1.0074e-07 - loss: -184159630257876369408.0000 - val_accuracy: 4.1371e-06 - val_loss: -190857679172427317248.0000\n"
          ]
        },
        {
          "output_type": "execute_result",
          "data": {
            "text/plain": [
              "<keras.src.callbacks.history.History at 0x7ecae5d46290>"
            ]
          },
          "metadata": {},
          "execution_count": 29
        }
      ]
    },
    {
      "cell_type": "markdown",
      "source": [
        "Probar el porcentaje de asertividad del modelo"
      ],
      "metadata": {
        "id": "GuHzGqAXbXQK"
      }
    },
    {
      "cell_type": "code",
      "source": [
        "loss, acc = model.evaluate(X_test, y_test)\n",
        "print(acc*100)"
      ],
      "metadata": {
        "id": "QXSWDOCtb1Kz",
        "colab": {
          "base_uri": "https://localhost:8080/"
        },
        "outputId": "a1cce0d0-373a-4494-c4fc-bd8adbbe4721"
      },
      "execution_count": null,
      "outputs": [
        {
          "output_type": "stream",
          "name": "stdout",
          "text": [
            "\u001b[1m7554/7554\u001b[0m \u001b[32m━━━━━━━━━━━━━━━━━━━━\u001b[0m\u001b[37m\u001b[0m \u001b[1m10s\u001b[0m 1ms/step - accuracy: 2.5849e-06 - loss: -13006228598078570496.0000\n",
            "0.00041371035877091344\n"
          ]
        }
      ]
    }
  ]
}