{
  "nbformat": 4,
  "nbformat_minor": 0,
  "metadata": {
    "colab": {
      "provenance": []
    },
    "kernelspec": {
      "name": "python3",
      "display_name": "Python 3"
    },
    "language_info": {
      "name": "python"
    }
  },
  "cells": [
    {
      "cell_type": "code",
      "execution_count": 1,
      "metadata": {
        "id": "oqlXChGWIzf0"
      },
      "outputs": [],
      "source": [
        "import numpy as np\n",
        "import pandas as pd\n",
        "import tensorflow as tf\n",
        "import matplotlib.pyplot as plt\n",
        "from sklearn.model_selection import train_test_split\n",
        "from sklearn.preprocessing import StandardScaler\n",
        "from tensorflow.keras.models import Sequential\n",
        "from tensorflow.keras.layers import Dense"
      ]
    },
    {
      "cell_type": "code",
      "source": [
        "from google.colab import files\n",
        "\n",
        "# Subir archivos .sav\n",
        "uploaded = files.upload()"
      ],
      "metadata": {
        "id": "6rzymhLvKHzd"
      },
      "execution_count": null,
      "outputs": []
    },
    {
      "cell_type": "code",
      "source": [
        "!pip install pyreadstat\n",
        "import pyreadstat\n",
        "\n",
        "# Cargar archivos .sav\n",
        "a_2018, meta1 = pyreadstat.read_sav(\"2018.sav\")\n",
        "a_2019, meta2 = pyreadstat.read_sav(\"2019.sav\")\n",
        "a_2020, meta3 = pyreadstat.read_sav(\"2020.sav\")\n",
        "a_2021, meta4 = pyreadstat.read_sav(\"2021.sav\")\n",
        "a_2022, meta4 = pyreadstat.read_sav(\"2022.sav\")\n",
        "\n",
        "# Visualizar los primeros registros\n",
        "print(a_2018.head())"
      ],
      "metadata": {
        "colab": {
          "base_uri": "https://localhost:8080/"
        },
        "id": "PmCLqTmsLNC6",
        "outputId": "289b4868-08d8-40fd-8e63-375896ee2ef8"
      },
      "execution_count": 2,
      "outputs": [
        {
          "output_type": "stream",
          "name": "stdout",
          "text": [
            "Requirement already satisfied: pyreadstat in /usr/local/lib/python3.10/dist-packages (1.2.8)\n",
            "Requirement already satisfied: pandas>=1.2.0 in /usr/local/lib/python3.10/dist-packages (from pyreadstat) (2.2.2)\n",
            "Requirement already satisfied: numpy>=1.22.4 in /usr/local/lib/python3.10/dist-packages (from pandas>=1.2.0->pyreadstat) (1.26.4)\n",
            "Requirement already satisfied: python-dateutil>=2.8.2 in /usr/local/lib/python3.10/dist-packages (from pandas>=1.2.0->pyreadstat) (2.8.2)\n",
            "Requirement already satisfied: pytz>=2020.1 in /usr/local/lib/python3.10/dist-packages (from pandas>=1.2.0->pyreadstat) (2024.2)\n",
            "Requirement already satisfied: tzdata>=2022.7 in /usr/local/lib/python3.10/dist-packages (from pandas>=1.2.0->pyreadstat) (2024.2)\n",
            "Requirement already satisfied: six>=1.5 in /usr/local/lib/python3.10/dist-packages (from python-dateutil>=2.8.2->pandas>=1.2.0->pyreadstat) (1.16.0)\n",
            "      AÑO   MES  DIASESTANCIA  SEXO  PPERTENENCIA  EDAD  PERIODOEDA  \\\n",
            "0  2018.0   4.0           3.0   1.0           4.0  39.0         3.0   \n",
            "1  2018.0  11.0           5.0   1.0           4.0  22.0         3.0   \n",
            "2  2018.0   7.0           3.0   1.0           4.0  22.0         3.0   \n",
            "3  2018.0   8.0           3.0   2.0           9.0  43.0         3.0   \n",
            "4  2018.0   8.0           2.0   2.0           4.0  34.0         3.0   \n",
            "\n",
            "   DEPTORESIDEN MUNIRESIDEN CAUFIN  CONDIEGRES  TRATARECIB  \n",
            "0          23.0        2300   A010         1.0         1.0  \n",
            "1          23.0        2300   A010         1.0         1.0  \n",
            "2          20.0        2001   A010         1.0         1.0  \n",
            "3          19.0        1901   A010         1.0         1.0  \n",
            "4          18.0        1804   A010         1.0         1.0  \n"
          ]
        }
      ]
    },
    {
      "cell_type": "code",
      "source": [
        "# Concatenar filas\n",
        "d_total = pd.concat([a_2018,a_2019,a_2020,a_2021, a_2022], ignore_index=True)\n",
        "\n",
        "# Verificar resultado\n",
        "print(d_total.head())\n"
      ],
      "metadata": {
        "colab": {
          "base_uri": "https://localhost:8080/"
        },
        "id": "hkjagM63N72W",
        "outputId": "4d7aedd3-886b-42e3-b800-65b0e64a56c4"
      },
      "execution_count": 3,
      "outputs": [
        {
          "output_type": "stream",
          "name": "stdout",
          "text": [
            "      AÑO   MES  DIASESTANCIA  SEXO  PPERTENENCIA  EDAD  PERIODOEDA  \\\n",
            "0  2018.0   4.0           3.0   1.0           4.0  39.0         3.0   \n",
            "1  2018.0  11.0           5.0   1.0           4.0  22.0         3.0   \n",
            "2  2018.0   7.0           3.0   1.0           4.0  22.0         3.0   \n",
            "3  2018.0   8.0           3.0   2.0           9.0  43.0         3.0   \n",
            "4  2018.0   8.0           2.0   2.0           4.0  34.0         3.0   \n",
            "\n",
            "   DEPTORESIDEN MUNIRESIDEN CAUFIN  CONDIEGRES  TRATARECIB  \n",
            "0          23.0        2300   A010         1.0         1.0  \n",
            "1          23.0        2300   A010         1.0         1.0  \n",
            "2          20.0        2001   A010         1.0         1.0  \n",
            "3          19.0        1901   A010         1.0         1.0  \n",
            "4          18.0        1804   A010         1.0         1.0  \n"
          ]
        }
      ]
    },
    {
      "cell_type": "code",
      "source": [
        "#Convirtiendo CAUFIN a factor\n",
        "# Convertir con One-Hot Encoding\n",
        "#dt_one_hot = pd.get_dummies(d_total, columns=['CAUFIN'])\n",
        "d_total['Cat_caufin'] = d_total['CAUFIN'].astype('category')\n",
        "\n",
        "# Ver el DataFrame con columnas One-Hot\n",
        "print(d_total)"
      ],
      "metadata": {
        "id": "6vDjMTwBXN26",
        "colab": {
          "base_uri": "https://localhost:8080/"
        },
        "outputId": "efae81d8-c62c-4e1a-885d-bbb960d2afb7"
      },
      "execution_count": 4,
      "outputs": [
        {
          "output_type": "stream",
          "name": "stdout",
          "text": [
            "            AÑO   MES  DIASESTANCIA  SEXO  PPERTENENCIA  EDAD  PERIODOEDA  \\\n",
            "0        2018.0   4.0           3.0   1.0           4.0  39.0         3.0   \n",
            "1        2018.0  11.0           5.0   1.0           4.0  22.0         3.0   \n",
            "2        2018.0   7.0           3.0   1.0           4.0  22.0         3.0   \n",
            "3        2018.0   8.0           3.0   2.0           9.0  43.0         3.0   \n",
            "4        2018.0   8.0           2.0   2.0           4.0  34.0         3.0   \n",
            "...         ...   ...           ...   ...           ...   ...         ...   \n",
            "1208567  2022.0   1.0        9999.0   1.0           4.0  82.0         3.0   \n",
            "1208568  2022.0   3.0        9999.0   1.0           9.0  84.0         3.0   \n",
            "1208569  2022.0   1.0        9999.0   2.0           4.0  86.0         3.0   \n",
            "1208570  2022.0  10.0        9999.0   2.0           4.0  87.0         3.0   \n",
            "1208571  2022.0   1.0        9999.0   1.0           4.0  90.0         3.0   \n",
            "\n",
            "         DEPTORESIDEN MUNIRESIDEN CAUFIN  CONDIEGRES  TRATARECIB Cat_caufin  \n",
            "0                23.0        2300   A010         1.0         1.0       A010  \n",
            "1                23.0        2300   A010         1.0         1.0       A010  \n",
            "2                20.0        2001   A010         1.0         1.0       A010  \n",
            "3                19.0        1901   A010         1.0         1.0       A010  \n",
            "4                18.0        1804   A010         1.0         1.0       A010  \n",
            "...               ...         ...    ...         ...         ...        ...  \n",
            "1208567           1.0        0101   Z988         1.0         1.0       Z988  \n",
            "1208568           1.0        0101   Z988         1.0         1.0       Z988  \n",
            "1208569           1.0        0101   Z988         1.0         1.0       Z988  \n",
            "1208570           1.0        0101   Z988         1.0         1.0       Z988  \n",
            "1208571          10.0        1001   Z988         1.0         1.0       Z988  \n",
            "\n",
            "[1208572 rows x 13 columns]\n"
          ]
        }
      ]
    },
    {
      "cell_type": "code",
      "source": [
        "#Ver la columna CAUFIN\n",
        "print(d_total['CAUFIN'])"
      ],
      "metadata": {
        "colab": {
          "base_uri": "https://localhost:8080/"
        },
        "id": "uYxCzSD-taZd",
        "outputId": "2ff238d1-c550-48eb-8c15-be9a097a6495"
      },
      "execution_count": 5,
      "outputs": [
        {
          "output_type": "stream",
          "name": "stdout",
          "text": [
            "0          A010\n",
            "1          A010\n",
            "2          A010\n",
            "3          A010\n",
            "4          A010\n",
            "           ... \n",
            "1208567    Z988\n",
            "1208568    Z988\n",
            "1208569    Z988\n",
            "1208570    Z988\n",
            "1208571    Z988\n",
            "Name: CAUFIN, Length: 1208572, dtype: object\n"
          ]
        }
      ]
    },
    {
      "cell_type": "code",
      "source": [],
      "metadata": {
        "id": "vEy40LFItd0h"
      },
      "execution_count": null,
      "outputs": []
    },
    {
      "cell_type": "code",
      "source": [
        "import pandas as pd\n",
        "# Ver el número de filas\n",
        "print(\"Número de filas:\", len(d_total))\n",
        "\n",
        "# Ver el número de columnas\n",
        "print(\"Número de columnas:\", len(d_total.columns))\n",
        "\n",
        "# Método alternativo que muestra ambos a la vez\n",
        "print(\"Forma del dataset (filas, columnas):\", d_total.shape)"
      ],
      "metadata": {
        "colab": {
          "base_uri": "https://localhost:8080/"
        },
        "id": "5olCFAbUiDrL",
        "outputId": "d96fee5e-78ea-4a00-f72b-a2fdd9d1aa1e"
      },
      "execution_count": 6,
      "outputs": [
        {
          "output_type": "stream",
          "name": "stdout",
          "text": [
            "Número de filas: 1208572\n",
            "Número de columnas: 13\n",
            "Forma del dataset (filas, columnas): (1208572, 13)\n"
          ]
        }
      ]
    },
    {
      "cell_type": "code",
      "source": [
        "#Aleatoriedad\n",
        "d_total = d_total.sample(frac = 1, random_state = 42).reset_index(drop=True)"
      ],
      "metadata": {
        "id": "Il7Uk6t8TwOZ"
      },
      "execution_count": 7,
      "outputs": []
    },
    {
      "cell_type": "code",
      "source": [
        "#Selección de la data\n",
        "X = d_total[['SEXO','DIASESTANCIA','DEPTORESIDEN']]\n",
        "y = d_total['Cat_caufin']"
      ],
      "metadata": {
        "id": "ae-j5YosUyI4"
      },
      "execution_count": 18,
      "outputs": []
    },
    {
      "source": [
        "#Datos de entrenamiento\n",
        "from sklearn.model_selection import train_test_split\n",
        "from sklearn.preprocessing import LabelEncoder\n",
        "\n",
        "X_train, X_test, y_train, y_test  = train_test_split(X, y, test_size = 0.2, random_state = 42)\n",
        "\n",
        "X_train = X_train.replace(' ', np.nan).dropna().astype('float32')\n",
        "# Initialize LabelEncoder\n",
        "label_encoder = LabelEncoder()\n",
        "# Fit and transform y_train\n",
        "#Fit on all unique values to avoid unseen labels during transform\n",
        "all_unique_labels = pd.concat([y_train[X_train.index], y_test[X_test.index]]).unique()\n",
        "label_encoder.fit(all_unique_labels)\n",
        "y_train = label_encoder.transform(y_train[X_train.index]).astype('float32')\n",
        "\n",
        "X_test = X_test.replace(' ', np.nan).dropna().astype('float32')\n",
        "# Transform y_test using the same encoder\n",
        "y_test = label_encoder.transform(y_test[X_test.index]).astype('float32')"
      ],
      "cell_type": "code",
      "metadata": {
        "id": "pjLpdmZUy5yG"
      },
      "execution_count": 21,
      "outputs": []
    },
    {
      "cell_type": "code",
      "source": [
        "#Densidad de las capas, relu: función de activación de la capa (cambia valores negativos a positivos), introduce no linealidades\n",
        "#sigmoid salida que representa la probabilidad de pertenencia a una de las clases\n",
        "model = Sequential()\n",
        "model.add(Dense(20, input_dim = 3, activation = 'relu'))\n",
        "model.add(Dense(8, activation='relu'))\n",
        "model.add(Dense(1, activation='sigmoid'))"
      ],
      "metadata": {
        "colab": {
          "base_uri": "https://localhost:8080/"
        },
        "id": "h31HRtcTWKCH",
        "outputId": "ca9b2cae-5312-4a85-fb42-5809bd54828e"
      },
      "execution_count": 13,
      "outputs": [
        {
          "output_type": "stream",
          "name": "stderr",
          "text": [
            "/usr/local/lib/python3.10/dist-packages/keras/src/layers/core/dense.py:87: UserWarning: Do not pass an `input_shape`/`input_dim` argument to a layer. When using Sequential models, prefer using an `Input(shape)` object as the first layer in the model instead.\n",
            "  super().__init__(activity_regularizer=activity_regularizer, **kwargs)\n"
          ]
        }
      ]
    },
    {
      "cell_type": "code",
      "source": [
        "model.compile(loss ='binary_crossentropy', optimizer ='adam', metrics =['accuracy'])"
      ],
      "metadata": {
        "id": "Hdh9H-m5Zp0p"
      },
      "execution_count": 14,
      "outputs": []
    },
    {
      "cell_type": "code",
      "source": [
        "#Entrenamiento\n",
        "model.fit(X_train, y_train, epochs = 50, batch_size = 200, validation_data=(X_test, y_test))\n"
      ],
      "metadata": {
        "colab": {
          "base_uri": "https://localhost:8080/"
        },
        "id": "cXiK1N12Zqj0",
        "outputId": "dff6ab9c-00dd-4822-f72e-1f0a713c9b21"
      },
      "execution_count": 22,
      "outputs": [
        {
          "output_type": "stream",
          "name": "stdout",
          "text": [
            "Epoch 1/50\n",
            "\u001b[1m4835/4835\u001b[0m \u001b[32m━━━━━━━━━━━━━━━━━━━━\u001b[0m\u001b[37m\u001b[0m \u001b[1m12s\u001b[0m 2ms/step - accuracy: 2.4543e-07 - loss: -824515072.0000 - val_accuracy: 4.1371e-06 - val_loss: -10107454464.0000\n",
            "Epoch 2/50\n",
            "\u001b[1m4835/4835\u001b[0m \u001b[32m━━━━━━━━━━━━━━━━━━━━\u001b[0m\u001b[37m\u001b[0m \u001b[1m11s\u001b[0m 2ms/step - accuracy: 1.6353e-06 - loss: -18385016832.0000 - val_accuracy: 4.1371e-06 - val_loss: -54425088000.0000\n",
            "Epoch 3/50\n",
            "\u001b[1m4835/4835\u001b[0m \u001b[32m━━━━━━━━━━━━━━━━━━━━\u001b[0m\u001b[37m\u001b[0m \u001b[1m11s\u001b[0m 2ms/step - accuracy: 2.2870e-06 - loss: -73872310272.0000 - val_accuracy: 4.1371e-06 - val_loss: -148984348672.0000\n",
            "Epoch 4/50\n",
            "\u001b[1m4835/4835\u001b[0m \u001b[32m━━━━━━━━━━━━━━━━━━━━\u001b[0m\u001b[37m\u001b[0m \u001b[1m10s\u001b[0m 2ms/step - accuracy: 6.8580e-07 - loss: -184619302912.0000 - val_accuracy: 4.1371e-06 - val_loss: -307581812736.0000\n",
            "Epoch 5/50\n",
            "\u001b[1m4835/4835\u001b[0m \u001b[32m━━━━━━━━━━━━━━━━━━━━\u001b[0m\u001b[37m\u001b[0m \u001b[1m12s\u001b[0m 2ms/step - accuracy: 3.1650e-06 - loss: -362847272960.0000 - val_accuracy: 4.1371e-06 - val_loss: -547721641984.0000\n",
            "Epoch 6/50\n",
            "\u001b[1m4835/4835\u001b[0m \u001b[32m━━━━━━━━━━━━━━━━━━━━\u001b[0m\u001b[37m\u001b[0m \u001b[1m12s\u001b[0m 3ms/step - accuracy: 2.0066e-06 - loss: -623919300608.0000 - val_accuracy: 4.1371e-06 - val_loss: -881284612096.0000\n",
            "Epoch 7/50\n",
            "\u001b[1m4835/4835\u001b[0m \u001b[32m━━━━━━━━━━━━━━━━━━━━\u001b[0m\u001b[37m\u001b[0m \u001b[1m12s\u001b[0m 3ms/step - accuracy: 6.3046e-07 - loss: -988887449600.0000 - val_accuracy: 4.1371e-06 - val_loss: -1325745700864.0000\n",
            "Epoch 8/50\n",
            "\u001b[1m4835/4835\u001b[0m \u001b[32m━━━━━━━━━━━━━━━━━━━━\u001b[0m\u001b[37m\u001b[0m \u001b[1m12s\u001b[0m 2ms/step - accuracy: 5.7233e-07 - loss: -1453108756480.0000 - val_accuracy: 4.1371e-06 - val_loss: -1896156889088.0000\n",
            "Epoch 9/50\n",
            "\u001b[1m4835/4835\u001b[0m \u001b[32m━━━━━━━━━━━━━━━━━━━━\u001b[0m\u001b[37m\u001b[0m \u001b[1m11s\u001b[0m 2ms/step - accuracy: 2.4796e-06 - loss: -2079719686144.0000 - val_accuracy: 4.1371e-06 - val_loss: -2603827593216.0000\n",
            "Epoch 10/50\n",
            "\u001b[1m4835/4835\u001b[0m \u001b[32m━━━━━━━━━━━━━━━━━━━━\u001b[0m\u001b[37m\u001b[0m \u001b[1m20s\u001b[0m 2ms/step - accuracy: 1.4110e-07 - loss: -2804852719616.0000 - val_accuracy: 4.1371e-06 - val_loss: -3465594535936.0000\n",
            "Epoch 11/50\n",
            "\u001b[1m4835/4835\u001b[0m \u001b[32m━━━━━━━━━━━━━━━━━━━━\u001b[0m\u001b[37m\u001b[0m \u001b[1m22s\u001b[0m 2ms/step - accuracy: 1.0795e-06 - loss: -3713038024704.0000 - val_accuracy: 4.1371e-06 - val_loss: -4496198467584.0000\n",
            "Epoch 12/50\n",
            "\u001b[1m4835/4835\u001b[0m \u001b[32m━━━━━━━━━━━━━━━━━━━━\u001b[0m\u001b[37m\u001b[0m \u001b[1m19s\u001b[0m 2ms/step - accuracy: 1.9657e-06 - loss: -4784920199168.0000 - val_accuracy: 4.1371e-06 - val_loss: -5708708839424.0000\n",
            "Epoch 13/50\n",
            "\u001b[1m4835/4835\u001b[0m \u001b[32m━━━━━━━━━━━━━━━━━━━━\u001b[0m\u001b[37m\u001b[0m \u001b[1m21s\u001b[0m 2ms/step - accuracy: 3.8262e-07 - loss: -5967869116416.0000 - val_accuracy: 4.1371e-06 - val_loss: -7119412658176.0000\n",
            "Epoch 14/50\n",
            "\u001b[1m4835/4835\u001b[0m \u001b[32m━━━━━━━━━━━━━━━━━━━━\u001b[0m\u001b[37m\u001b[0m \u001b[1m19s\u001b[0m 2ms/step - accuracy: 1.9557e-06 - loss: -7564668960768.0000 - val_accuracy: 4.1371e-06 - val_loss: -8734656430080.0000\n",
            "Epoch 15/50\n",
            "\u001b[1m4835/4835\u001b[0m \u001b[32m━━━━━━━━━━━━━━━━━━━━\u001b[0m\u001b[37m\u001b[0m \u001b[1m12s\u001b[0m 2ms/step - accuracy: 2.2909e-06 - loss: -9323846565888.0000 - val_accuracy: 4.1371e-06 - val_loss: -10588083191808.0000\n",
            "Epoch 16/50\n",
            "\u001b[1m4835/4835\u001b[0m \u001b[32m━━━━━━━━━━━━━━━━━━━━\u001b[0m\u001b[37m\u001b[0m \u001b[1m11s\u001b[0m 2ms/step - accuracy: 1.0404e-07 - loss: -11088432201728.0000 - val_accuracy: 4.1371e-06 - val_loss: -12673890648064.0000\n",
            "Epoch 17/50\n",
            "\u001b[1m4835/4835\u001b[0m \u001b[32m━━━━━━━━━━━━━━━━━━━━\u001b[0m\u001b[37m\u001b[0m \u001b[1m20s\u001b[0m 2ms/step - accuracy: 2.0919e-06 - loss: -13303718871040.0000 - val_accuracy: 4.1371e-06 - val_loss: -15010066595840.0000\n",
            "Epoch 18/50\n",
            "\u001b[1m4835/4835\u001b[0m \u001b[32m━━━━━━━━━━━━━━━━━━━━\u001b[0m\u001b[37m\u001b[0m \u001b[1m11s\u001b[0m 2ms/step - accuracy: 9.4393e-08 - loss: -15719321305088.0000 - val_accuracy: 4.1371e-06 - val_loss: -17627655176192.0000\n",
            "Epoch 19/50\n",
            "\u001b[1m4835/4835\u001b[0m \u001b[32m━━━━━━━━━━━━━━━━━━━━\u001b[0m\u001b[37m\u001b[0m \u001b[1m11s\u001b[0m 2ms/step - accuracy: 1.9079e-07 - loss: -18366465048576.0000 - val_accuracy: 4.1371e-06 - val_loss: -20516609982464.0000\n",
            "Epoch 20/50\n",
            "\u001b[1m4835/4835\u001b[0m \u001b[32m━━━━━━━━━━━━━━━━━━━━\u001b[0m\u001b[37m\u001b[0m \u001b[1m21s\u001b[0m 2ms/step - accuracy: 6.2457e-07 - loss: -21204903657472.0000 - val_accuracy: 4.1371e-06 - val_loss: -23695605104640.0000\n",
            "Epoch 21/50\n",
            "\u001b[1m4835/4835\u001b[0m \u001b[32m━━━━━━━━━━━━━━━━━━━━\u001b[0m\u001b[37m\u001b[0m \u001b[1m10s\u001b[0m 2ms/step - accuracy: 2.1181e-06 - loss: -24530393235456.0000 - val_accuracy: 4.1371e-06 - val_loss: -27192035639296.0000\n",
            "Epoch 22/50\n",
            "\u001b[1m4835/4835\u001b[0m \u001b[32m━━━━━━━━━━━━━━━━━━━━\u001b[0m\u001b[37m\u001b[0m \u001b[1m9s\u001b[0m 2ms/step - accuracy: 6.5998e-07 - loss: -27913468510208.0000 - val_accuracy: 4.1371e-06 - val_loss: -31031625252864.0000\n",
            "Epoch 23/50\n",
            "\u001b[1m4835/4835\u001b[0m \u001b[32m━━━━━━━━━━━━━━━━━━━━\u001b[0m\u001b[37m\u001b[0m \u001b[1m12s\u001b[0m 2ms/step - accuracy: 4.8605e-07 - loss: -31972302782464.0000 - val_accuracy: 4.1371e-06 - val_loss: -35174729383936.0000\n",
            "Epoch 24/50\n",
            "\u001b[1m4835/4835\u001b[0m \u001b[32m━━━━━━━━━━━━━━━━━━━━\u001b[0m\u001b[37m\u001b[0m \u001b[1m21s\u001b[0m 2ms/step - accuracy: 1.7995e-06 - loss: -36891881635840.0000 - val_accuracy: 4.1371e-06 - val_loss: -39689075556352.0000\n",
            "Epoch 25/50\n",
            "\u001b[1m4835/4835\u001b[0m \u001b[32m━━━━━━━━━━━━━━━━━━━━\u001b[0m\u001b[37m\u001b[0m \u001b[1m11s\u001b[0m 2ms/step - accuracy: 3.3543e-07 - loss: -41134671790080.0000 - val_accuracy: 4.1371e-06 - val_loss: -44578056962048.0000\n",
            "Epoch 26/50\n",
            "\u001b[1m4835/4835\u001b[0m \u001b[32m━━━━━━━━━━━━━━━━━━━━\u001b[0m\u001b[37m\u001b[0m \u001b[1m22s\u001b[0m 2ms/step - accuracy: 4.2786e-07 - loss: -45949204299776.0000 - val_accuracy: 4.1371e-06 - val_loss: -49844886437888.0000\n",
            "Epoch 27/50\n",
            "\u001b[1m4835/4835\u001b[0m \u001b[32m━━━━━━━━━━━━━━━━━━━━\u001b[0m\u001b[37m\u001b[0m \u001b[1m20s\u001b[0m 2ms/step - accuracy: 1.9517e-07 - loss: -50604080627712.0000 - val_accuracy: 4.1371e-06 - val_loss: -55506383142912.0000\n",
            "Epoch 28/50\n",
            "\u001b[1m4835/4835\u001b[0m \u001b[32m━━━━━━━━━━━━━━━━━━━━\u001b[0m\u001b[37m\u001b[0m \u001b[1m20s\u001b[0m 2ms/step - accuracy: 6.5554e-07 - loss: -57082040549376.0000 - val_accuracy: 4.1371e-06 - val_loss: -61589977825280.0000\n",
            "Epoch 29/50\n",
            "\u001b[1m4835/4835\u001b[0m \u001b[32m━━━━━━━━━━━━━━━━━━━━\u001b[0m\u001b[37m\u001b[0m \u001b[1m21s\u001b[0m 2ms/step - accuracy: 1.3695e-07 - loss: -63073226326016.0000 - val_accuracy: 4.1371e-06 - val_loss: -68119657709568.0000\n",
            "Epoch 30/50\n",
            "\u001b[1m4835/4835\u001b[0m \u001b[32m━━━━━━━━━━━━━━━━━━━━\u001b[0m\u001b[37m\u001b[0m \u001b[1m20s\u001b[0m 2ms/step - accuracy: 9.0186e-08 - loss: -69078706290688.0000 - val_accuracy: 4.1371e-06 - val_loss: -75036635430912.0000\n",
            "Epoch 31/50\n",
            "\u001b[1m4835/4835\u001b[0m \u001b[32m━━━━━━━━━━━━━━━━━━━━\u001b[0m\u001b[37m\u001b[0m \u001b[1m11s\u001b[0m 2ms/step - accuracy: 1.7790e-06 - loss: -76263033143296.0000 - val_accuracy: 4.1371e-06 - val_loss: -82470502400000.0000\n",
            "Epoch 32/50\n",
            "\u001b[1m4835/4835\u001b[0m \u001b[32m━━━━━━━━━━━━━━━━━━━━\u001b[0m\u001b[37m\u001b[0m \u001b[1m12s\u001b[0m 2ms/step - accuracy: 2.2658e-06 - loss: -84406316302336.0000 - val_accuracy: 4.1371e-06 - val_loss: -90339050258432.0000\n",
            "Epoch 33/50\n",
            "\u001b[1m4835/4835\u001b[0m \u001b[32m━━━━━━━━━━━━━━━━━━━━\u001b[0m\u001b[37m\u001b[0m \u001b[1m9s\u001b[0m 2ms/step - accuracy: 1.5477e-06 - loss: -92307361628160.0000 - val_accuracy: 4.1371e-06 - val_loss: -98618446970880.0000\n",
            "Epoch 34/50\n",
            "\u001b[1m4835/4835\u001b[0m \u001b[32m━━━━━━━━━━━━━━━━━━━━\u001b[0m\u001b[37m\u001b[0m \u001b[1m11s\u001b[0m 2ms/step - accuracy: 9.2312e-07 - loss: -100942947024896.0000 - val_accuracy: 4.1371e-06 - val_loss: -107496505081856.0000\n",
            "Epoch 35/50\n",
            "\u001b[1m4835/4835\u001b[0m \u001b[32m━━━━━━━━━━━━━━━━━━━━\u001b[0m\u001b[37m\u001b[0m \u001b[1m12s\u001b[0m 2ms/step - accuracy: 1.1109e-06 - loss: -110917605916672.0000 - val_accuracy: 4.1371e-06 - val_loss: -116817490083840.0000\n",
            "Epoch 36/50\n",
            "\u001b[1m4835/4835\u001b[0m \u001b[32m━━━━━━━━━━━━━━━━━━━━\u001b[0m\u001b[37m\u001b[0m \u001b[1m11s\u001b[0m 2ms/step - accuracy: 5.6899e-07 - loss: -119686922502144.0000 - val_accuracy: 4.1371e-06 - val_loss: -126710544596992.0000\n",
            "Epoch 37/50\n",
            "\u001b[1m4835/4835\u001b[0m \u001b[32m━━━━━━━━━━━━━━━━━━━━\u001b[0m\u001b[37m\u001b[0m \u001b[1m10s\u001b[0m 2ms/step - accuracy: 6.2967e-07 - loss: -130161399824384.0000 - val_accuracy: 4.1371e-06 - val_loss: -137076775321600.0000\n",
            "Epoch 38/50\n",
            "\u001b[1m4835/4835\u001b[0m \u001b[32m━━━━━━━━━━━━━━━━━━━━\u001b[0m\u001b[37m\u001b[0m \u001b[1m22s\u001b[0m 2ms/step - accuracy: 1.6887e-06 - loss: -137964894027776.0000 - val_accuracy: 4.1371e-06 - val_loss: -148089650282496.0000\n",
            "Epoch 39/50\n",
            "\u001b[1m4835/4835\u001b[0m \u001b[32m━━━━━━━━━━━━━━━━━━━━\u001b[0m\u001b[37m\u001b[0m \u001b[1m20s\u001b[0m 2ms/step - accuracy: 1.0216e-06 - loss: -151358405607424.0000 - val_accuracy: 4.1371e-06 - val_loss: -159626100211712.0000\n",
            "Epoch 40/50\n",
            "\u001b[1m4835/4835\u001b[0m \u001b[32m━━━━━━━━━━━━━━━━━━━━\u001b[0m\u001b[37m\u001b[0m \u001b[1m20s\u001b[0m 2ms/step - accuracy: 1.7574e-07 - loss: -162117701337088.0000 - val_accuracy: 4.1371e-06 - val_loss: -171705343410176.0000\n",
            "Epoch 41/50\n",
            "\u001b[1m4835/4835\u001b[0m \u001b[32m━━━━━━━━━━━━━━━━━━━━\u001b[0m\u001b[37m\u001b[0m \u001b[1m20s\u001b[0m 2ms/step - accuracy: 1.3668e-06 - loss: -174102824353792.0000 - val_accuracy: 4.1371e-06 - val_loss: -184408061509632.0000\n",
            "Epoch 42/50\n",
            "\u001b[1m4835/4835\u001b[0m \u001b[32m━━━━━━━━━━━━━━━━━━━━\u001b[0m\u001b[37m\u001b[0m \u001b[1m9s\u001b[0m 2ms/step - accuracy: 2.7123e-07 - loss: -190541442580480.0000 - val_accuracy: 4.1371e-06 - val_loss: -197707192860672.0000\n",
            "Epoch 43/50\n",
            "\u001b[1m4835/4835\u001b[0m \u001b[32m━━━━━━━━━━━━━━━━━━━━\u001b[0m\u001b[37m\u001b[0m \u001b[1m12s\u001b[0m 2ms/step - accuracy: 1.0991e-06 - loss: -204950218997760.0000 - val_accuracy: 4.1371e-06 - val_loss: -211590171328512.0000\n",
            "Epoch 44/50\n",
            "\u001b[1m4835/4835\u001b[0m \u001b[32m━━━━━━━━━━━━━━━━━━━━\u001b[0m\u001b[37m\u001b[0m \u001b[1m21s\u001b[0m 2ms/step - accuracy: 1.5316e-06 - loss: -217898152886272.0000 - val_accuracy: 4.1371e-06 - val_loss: -226126035156992.0000\n",
            "Epoch 45/50\n",
            "\u001b[1m4835/4835\u001b[0m \u001b[32m━━━━━━━━━━━━━━━━━━━━\u001b[0m\u001b[37m\u001b[0m \u001b[1m19s\u001b[0m 2ms/step - accuracy: 4.0909e-06 - loss: -232505386991616.0000 - val_accuracy: 4.1371e-06 - val_loss: -241310187388928.0000\n",
            "Epoch 46/50\n",
            "\u001b[1m4835/4835\u001b[0m \u001b[32m━━━━━━━━━━━━━━━━━━━━\u001b[0m\u001b[37m\u001b[0m \u001b[1m21s\u001b[0m 2ms/step - accuracy: 4.0991e-08 - loss: -245345913143296.0000 - val_accuracy: 4.1371e-06 - val_loss: -257153298333696.0000\n",
            "Epoch 47/50\n",
            "\u001b[1m4835/4835\u001b[0m \u001b[32m━━━━━━━━━━━━━━━━━━━━\u001b[0m\u001b[37m\u001b[0m \u001b[1m21s\u001b[0m 2ms/step - accuracy: 3.8541e-07 - loss: -261430548889600.0000 - val_accuracy: 4.1371e-06 - val_loss: -273700649697280.0000\n",
            "Epoch 48/50\n",
            "\u001b[1m4835/4835\u001b[0m \u001b[32m━━━━━━━━━━━━━━━━━━━━\u001b[0m\u001b[37m\u001b[0m \u001b[1m22s\u001b[0m 2ms/step - accuracy: 8.8872e-07 - loss: -280883110084608.0000 - val_accuracy: 4.1371e-06 - val_loss: -290856124809216.0000\n",
            "Epoch 49/50\n",
            "\u001b[1m4835/4835\u001b[0m \u001b[32m━━━━━━━━━━━━━━━━━━━━\u001b[0m\u001b[37m\u001b[0m \u001b[1m11s\u001b[0m 2ms/step - accuracy: 3.9550e-06 - loss: -294666230562816.0000 - val_accuracy: 4.1371e-06 - val_loss: -308830932041728.0000\n",
            "Epoch 50/50\n",
            "\u001b[1m4835/4835\u001b[0m \u001b[32m━━━━━━━━━━━━━━━━━━━━\u001b[0m\u001b[37m\u001b[0m \u001b[1m11s\u001b[0m 2ms/step - accuracy: 1.1010e-06 - loss: -317901366099968.0000 - val_accuracy: 4.1371e-06 - val_loss: -327401330442240.0000\n"
          ]
        },
        {
          "output_type": "execute_result",
          "data": {
            "text/plain": [
              "<keras.src.callbacks.history.History at 0x7ecb00229f90>"
            ]
          },
          "metadata": {},
          "execution_count": 22
        }
      ]
    },
    {
      "cell_type": "code",
      "source": [
        "loss, acc = model.evaluate(X_test, y_test)\n",
        "print(acc*100)"
      ],
      "metadata": {
        "id": "QXSWDOCtb1Kz",
        "colab": {
          "base_uri": "https://localhost:8080/"
        },
        "outputId": "536ec538-da4a-47af-87a0-d15b7cd4a5ce"
      },
      "execution_count": 23,
      "outputs": [
        {
          "output_type": "stream",
          "name": "stdout",
          "text": [
            "\u001b[1m7554/7554\u001b[0m \u001b[32m━━━━━━━━━━━━━━━━━━━━\u001b[0m\u001b[37m\u001b[0m \u001b[1m11s\u001b[0m 1ms/step - accuracy: 2.5849e-06 - loss: -325441281851392.0000\n",
            "0.00041371035877091344\n"
          ]
        }
      ]
    },
    {
      "cell_type": "code",
      "source": [],
      "metadata": {
        "id": "SJMVtGNVb7Ea"
      },
      "execution_count": null,
      "outputs": []
    }
  ]
}